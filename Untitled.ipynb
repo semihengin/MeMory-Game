{
  "cells": [
    {
      "cell_type": "markdown",
      "metadata": {
        "id": "view-in-github",
        "colab_type": "text"
      },
      "source": [
        "<a href=\"https://colab.research.google.com/github/semihengin/Memory-Game/blob/main/Untitled.ipynb\" target=\"_parent\"><img src=\"https://colab.research.google.com/assets/colab-badge.svg\" alt=\"Open In Colab\"/></a>"
      ]
    },
    {
      "cell_type": "markdown",
      "id": "5bc8f4b2",
      "metadata": {
        "id": "5bc8f4b2"
      },
      "source": [
        "# SEMİH ENGİN 191180037"
      ]
    },
    {
      "cell_type": "code",
      "execution_count": 6,
      "id": "f6b436b5",
      "metadata": {
        "id": "f6b436b5"
      },
      "outputs": [],
      "source": [
        "import pandas as pd\n",
        "import numpy as np\n",
        "from sklearn.datasets import load_iris\n",
        "import graphviz"
      ]
    },
    {
      "cell_type": "markdown",
      "id": "3800c96b",
      "metadata": {
        "id": "3800c96b"
      },
      "source": [
        "# Q1 Split the Dataset and Build a Random Forest Classifier"
      ]
    },
    {
      "cell_type": "code",
      "execution_count": 7,
      "id": "3734af2f",
      "metadata": {
        "colab": {
          "base_uri": "https://localhost:8080/"
        },
        "id": "3734af2f",
        "outputId": "43b59dd9-0b7e-40df-ee4f-8c6d07f46548"
      },
      "outputs": [
        {
          "output_type": "execute_result",
          "data": {
            "text/plain": [
              "RandomForestClassifier(n_estimators=10)"
            ]
          },
          "metadata": {},
          "execution_count": 7
        }
      ],
      "source": [
        "from sklearn.ensemble import RandomForestClassifier\n",
        "from sklearn.model_selection import train_test_split\n",
        "\n",
        "df = load_iris()\n",
        "X = df.data\n",
        "y = df.target\n",
        "#I got the iris dataset with the help of the library\n",
        "\n",
        "X_train, X_test, y_train, y_test = train_test_split(X, y, test_size=0.25, random_state=50)\n",
        "#I divided the data into 25% and 75% as training and test set.\n",
        "\n",
        "clf = RandomForestClassifier(n_estimators=10, criterion='gini')\n",
        "#I created Random Forest Classifier with 10 trees and gini index criteria\n",
        "\n",
        "clf.fit(X_train, y_train)\n",
        "#I trained the model using the training data."
      ]
    },
    {
      "cell_type": "markdown",
      "id": "47c6f20b",
      "metadata": {
        "id": "47c6f20b"
      },
      "source": [
        "# Q2 Evaluate your model on the Test Set"
      ]
    },
    {
      "cell_type": "code",
      "execution_count": 8,
      "id": "6acfea76",
      "metadata": {
        "colab": {
          "base_uri": "https://localhost:8080/"
        },
        "id": "6acfea76",
        "outputId": "96c2134d-e1d7-4f2c-d896-759c9dc8e479"
      },
      "outputs": [
        {
          "output_type": "stream",
          "name": "stdout",
          "text": [
            "Confusion Matrix :\n",
            " [[11  0  0]\n",
            " [ 0 14  1]\n",
            " [ 0  1 11]]\n",
            "\n",
            "Accuracy Value: 0.9473684210526315\n",
            "Precision Value: 0.9473684210526315\n",
            "Recall Value: 0.9473684210526315\n",
            "F-1 Score: 0.9473684210526315\n"
          ]
        }
      ],
      "source": [
        "from sklearn.metrics import precision_recall_fscore_support,confusion_matrix, accuracy_score, precision_score, recall_score, f1_score\n",
        "from sklearn.tree import export_graphviz\n",
        "\n",
        "#Estimates were made on the Test data using the trained model.\n",
        "y_pred = clf.predict(X_test)\n",
        "\n",
        "# Confusion matrix\n",
        "cfm = confusion_matrix(y_test, y_pred)\n",
        "print(\"Confusion Matrix :\\n\",(cfm))\n",
        "\n",
        "# Report the accuracy, precision, recall, and f-1 score of the model\n",
        "precision, recall, f1_score, _ = precision_recall_fscore_support(y_test, y_pred, average='micro')\n",
        "print(\"\\nAccuracy Value:\", clf.score(X_test, y_test))\n",
        "print(\"Precision Value:\", precision)\n",
        "print(\"Recall Value:\", recall)\n",
        "print(\"F-1 Score:\", f1_score)"
      ]
    },
    {
      "cell_type": "markdown",
      "id": "3ba18be3",
      "metadata": {
        "id": "3ba18be3"
      },
      "source": [
        "# Q3 Visualize a Single Tree"
      ]
    },
    {
      "cell_type": "code",
      "execution_count": 9,
      "id": "05d11bf4",
      "metadata": {
        "colab": {
          "base_uri": "https://localhost:8080/",
          "height": 518
        },
        "id": "05d11bf4",
        "outputId": "b21fbdbb-e017-400b-9b8a-9eefba51c8db"
      },
      "outputs": [
        {
          "output_type": "execute_result",
          "data": {
            "text/plain": [
              "<graphviz.files.Source at 0x7f8fdee6c1c0>"
            ],
            "image/svg+xml": "<?xml version=\"1.0\" encoding=\"UTF-8\" standalone=\"no\"?>\n<!DOCTYPE svg PUBLIC \"-//W3C//DTD SVG 1.1//EN\"\n \"http://www.w3.org/Graphics/SVG/1.1/DTD/svg11.dtd\">\n<!-- Generated by graphviz version 2.40.1 (20161225.0304)\n -->\n<!-- Title: Tree Pages: 1 -->\n<svg width=\"346pt\" height=\"373pt\"\n viewBox=\"0.00 0.00 346.00 373.00\" xmlns=\"http://www.w3.org/2000/svg\" xmlns:xlink=\"http://www.w3.org/1999/xlink\">\n<g id=\"graph0\" class=\"graph\" transform=\"scale(1 1) rotate(0) translate(4 369)\">\n<title>Tree</title>\n<polygon fill=\"#ffffff\" stroke=\"transparent\" points=\"-4,4 -4,-369 342,-369 342,4 -4,4\"/>\n<!-- 0 -->\n<g id=\"node1\" class=\"node\">\n<title>0</title>\n<polygon fill=\"none\" stroke=\"#000000\" points=\"203.5,-365 63.5,-365 63.5,-297 203.5,-297 203.5,-365\"/>\n<text text-anchor=\"middle\" x=\"133.5\" y=\"-349.8\" font-family=\"Helvetica,sans-Serif\" font-size=\"14.00\" fill=\"#000000\">X[2] &lt;= 2.6</text>\n<text text-anchor=\"middle\" x=\"133.5\" y=\"-334.8\" font-family=\"Helvetica,sans-Serif\" font-size=\"14.00\" fill=\"#000000\">gini = 0.66</text>\n<text text-anchor=\"middle\" x=\"133.5\" y=\"-319.8\" font-family=\"Helvetica,sans-Serif\" font-size=\"14.00\" fill=\"#000000\">samples = 69</text>\n<text text-anchor=\"middle\" x=\"133.5\" y=\"-304.8\" font-family=\"Helvetica,sans-Serif\" font-size=\"14.00\" fill=\"#000000\">value = [41, 30, 41]</text>\n</g>\n<!-- 1 -->\n<g id=\"node2\" class=\"node\">\n<title>1</title>\n<polygon fill=\"none\" stroke=\"#000000\" points=\"123,-253.5 0,-253.5 0,-200.5 123,-200.5 123,-253.5\"/>\n<text text-anchor=\"middle\" x=\"61.5\" y=\"-238.3\" font-family=\"Helvetica,sans-Serif\" font-size=\"14.00\" fill=\"#000000\">gini = 0.0</text>\n<text text-anchor=\"middle\" x=\"61.5\" y=\"-223.3\" font-family=\"Helvetica,sans-Serif\" font-size=\"14.00\" fill=\"#000000\">samples = 24</text>\n<text text-anchor=\"middle\" x=\"61.5\" y=\"-208.3\" font-family=\"Helvetica,sans-Serif\" font-size=\"14.00\" fill=\"#000000\">value = [41, 0, 0]</text>\n</g>\n<!-- 0&#45;&gt;1 -->\n<g id=\"edge1\" class=\"edge\">\n<title>0&#45;&gt;1</title>\n<path fill=\"none\" stroke=\"#000000\" d=\"M109.9245,-296.9465C102.1463,-285.7113 93.4861,-273.2021 85.6645,-261.9043\"/>\n<polygon fill=\"#000000\" stroke=\"#000000\" points=\"88.4452,-259.7719 79.8753,-253.5422 82.6898,-263.7564 88.4452,-259.7719\"/>\n<text text-anchor=\"middle\" x=\"75.4032\" y=\"-274.4389\" font-family=\"Helvetica,sans-Serif\" font-size=\"14.00\" fill=\"#000000\">True</text>\n</g>\n<!-- 2 -->\n<g id=\"node3\" class=\"node\">\n<title>2</title>\n<polygon fill=\"none\" stroke=\"#000000\" points=\"272,-261 141,-261 141,-193 272,-193 272,-261\"/>\n<text text-anchor=\"middle\" x=\"206.5\" y=\"-245.8\" font-family=\"Helvetica,sans-Serif\" font-size=\"14.00\" fill=\"#000000\">X[3] &lt;= 1.65</text>\n<text text-anchor=\"middle\" x=\"206.5\" y=\"-230.8\" font-family=\"Helvetica,sans-Serif\" font-size=\"14.00\" fill=\"#000000\">gini = 0.488</text>\n<text text-anchor=\"middle\" x=\"206.5\" y=\"-215.8\" font-family=\"Helvetica,sans-Serif\" font-size=\"14.00\" fill=\"#000000\">samples = 45</text>\n<text text-anchor=\"middle\" x=\"206.5\" y=\"-200.8\" font-family=\"Helvetica,sans-Serif\" font-size=\"14.00\" fill=\"#000000\">value = [0, 30, 41]</text>\n</g>\n<!-- 0&#45;&gt;2 -->\n<g id=\"edge2\" class=\"edge\">\n<title>0&#45;&gt;2</title>\n<path fill=\"none\" stroke=\"#000000\" d=\"M157.4029,-296.9465C163.5791,-288.1475 170.3038,-278.5672 176.739,-269.3993\"/>\n<polygon fill=\"#000000\" stroke=\"#000000\" points=\"179.6629,-271.3258 182.5434,-261.13 173.9334,-267.3041 179.6629,-271.3258\"/>\n<text text-anchor=\"middle\" x=\"186.8563\" y=\"-282.0552\" font-family=\"Helvetica,sans-Serif\" font-size=\"14.00\" fill=\"#000000\">False</text>\n</g>\n<!-- 3 -->\n<g id=\"node4\" class=\"node\">\n<title>3</title>\n<polygon fill=\"none\" stroke=\"#000000\" points=\"197,-157 74,-157 74,-89 197,-89 197,-157\"/>\n<text text-anchor=\"middle\" x=\"135.5\" y=\"-141.8\" font-family=\"Helvetica,sans-Serif\" font-size=\"14.00\" fill=\"#000000\">X[2] &lt;= 5.45</text>\n<text text-anchor=\"middle\" x=\"135.5\" y=\"-126.8\" font-family=\"Helvetica,sans-Serif\" font-size=\"14.00\" fill=\"#000000\">gini = 0.062</text>\n<text text-anchor=\"middle\" x=\"135.5\" y=\"-111.8\" font-family=\"Helvetica,sans-Serif\" font-size=\"14.00\" fill=\"#000000\">samples = 21</text>\n<text text-anchor=\"middle\" x=\"135.5\" y=\"-96.8\" font-family=\"Helvetica,sans-Serif\" font-size=\"14.00\" fill=\"#000000\">value = [0, 30, 1]</text>\n</g>\n<!-- 2&#45;&gt;3 -->\n<g id=\"edge3\" class=\"edge\">\n<title>2&#45;&gt;3</title>\n<path fill=\"none\" stroke=\"#000000\" d=\"M183.2519,-192.9465C177.245,-184.1475 170.7045,-174.5672 164.4457,-165.3993\"/>\n<polygon fill=\"#000000\" stroke=\"#000000\" points=\"167.3293,-163.4155 158.8003,-157.13 161.548,-167.3623 167.3293,-163.4155\"/>\n</g>\n<!-- 6 -->\n<g id=\"node7\" class=\"node\">\n<title>6</title>\n<polygon fill=\"none\" stroke=\"#000000\" points=\"338,-149.5 215,-149.5 215,-96.5 338,-96.5 338,-149.5\"/>\n<text text-anchor=\"middle\" x=\"276.5\" y=\"-134.3\" font-family=\"Helvetica,sans-Serif\" font-size=\"14.00\" fill=\"#000000\">gini = 0.0</text>\n<text text-anchor=\"middle\" x=\"276.5\" y=\"-119.3\" font-family=\"Helvetica,sans-Serif\" font-size=\"14.00\" fill=\"#000000\">samples = 24</text>\n<text text-anchor=\"middle\" x=\"276.5\" y=\"-104.3\" font-family=\"Helvetica,sans-Serif\" font-size=\"14.00\" fill=\"#000000\">value = [0, 0, 40]</text>\n</g>\n<!-- 2&#45;&gt;6 -->\n<g id=\"edge6\" class=\"edge\">\n<title>2&#45;&gt;6</title>\n<path fill=\"none\" stroke=\"#000000\" d=\"M229.4206,-192.9465C236.9828,-181.7113 245.4024,-169.2021 253.0067,-157.9043\"/>\n<polygon fill=\"#000000\" stroke=\"#000000\" points=\"255.9548,-159.7924 258.6351,-149.5422 250.1477,-155.8837 255.9548,-159.7924\"/>\n</g>\n<!-- 4 -->\n<g id=\"node5\" class=\"node\">\n<title>4</title>\n<polygon fill=\"none\" stroke=\"#000000\" points=\"129,-53 6,-53 6,0 129,0 129,-53\"/>\n<text text-anchor=\"middle\" x=\"67.5\" y=\"-37.8\" font-family=\"Helvetica,sans-Serif\" font-size=\"14.00\" fill=\"#000000\">gini = 0.0</text>\n<text text-anchor=\"middle\" x=\"67.5\" y=\"-22.8\" font-family=\"Helvetica,sans-Serif\" font-size=\"14.00\" fill=\"#000000\">samples = 20</text>\n<text text-anchor=\"middle\" x=\"67.5\" y=\"-7.8\" font-family=\"Helvetica,sans-Serif\" font-size=\"14.00\" fill=\"#000000\">value = [0, 30, 0]</text>\n</g>\n<!-- 3&#45;&gt;4 -->\n<g id=\"edge4\" class=\"edge\">\n<title>3&#45;&gt;4</title>\n<path fill=\"none\" stroke=\"#000000\" d=\"M111.5257,-88.9777C105.2667,-80.0954 98.5099,-70.5067 92.2133,-61.5711\"/>\n<polygon fill=\"#000000\" stroke=\"#000000\" points=\"94.9699,-59.4068 86.3487,-53.2485 89.2479,-63.4389 94.9699,-59.4068\"/>\n</g>\n<!-- 5 -->\n<g id=\"node6\" class=\"node\">\n<title>5</title>\n<polygon fill=\"none\" stroke=\"#000000\" points=\"262,-53 147,-53 147,0 262,0 262,-53\"/>\n<text text-anchor=\"middle\" x=\"204.5\" y=\"-37.8\" font-family=\"Helvetica,sans-Serif\" font-size=\"14.00\" fill=\"#000000\">gini = 0.0</text>\n<text text-anchor=\"middle\" x=\"204.5\" y=\"-22.8\" font-family=\"Helvetica,sans-Serif\" font-size=\"14.00\" fill=\"#000000\">samples = 1</text>\n<text text-anchor=\"middle\" x=\"204.5\" y=\"-7.8\" font-family=\"Helvetica,sans-Serif\" font-size=\"14.00\" fill=\"#000000\">value = [0, 0, 1]</text>\n</g>\n<!-- 3&#45;&gt;5 -->\n<g id=\"edge5\" class=\"edge\">\n<title>3&#45;&gt;5</title>\n<path fill=\"none\" stroke=\"#000000\" d=\"M159.8268,-88.9777C166.1779,-80.0954 173.034,-70.5067 179.4232,-61.5711\"/>\n<polygon fill=\"#000000\" stroke=\"#000000\" points=\"182.4048,-63.4187 185.3741,-53.2485 176.7107,-59.3472 182.4048,-63.4187\"/>\n</g>\n</g>\n</svg>\n"
          },
          "metadata": {},
          "execution_count": 9
        }
      ],
      "source": [
        "tree = clf.estimators_[3]\n",
        "#I randomly chose the 3rd tree\n",
        "graph = graphviz.Source(export_graphviz(tree))\n",
        "#I visualized this tree with Graphviz library\n",
        "graph"
      ]
    }
  ],
  "metadata": {
    "kernelspec": {
      "display_name": "Python 3 (ipykernel)",
      "language": "python",
      "name": "python3"
    },
    "language_info": {
      "codemirror_mode": {
        "name": "ipython",
        "version": 3
      },
      "file_extension": ".py",
      "mimetype": "text/x-python",
      "name": "python",
      "nbconvert_exporter": "python",
      "pygments_lexer": "ipython3",
      "version": "3.10.2"
    },
    "colab": {
      "provenance": [],
      "include_colab_link": true
    }
  },
  "nbformat": 4,
  "nbformat_minor": 5
}